{
 "cells": [
  {
   "cell_type": "code",
   "execution_count": 1,
   "id": "63838b48",
   "metadata": {},
   "outputs": [],
   "source": [
    "import numpy as np"
   ]
  },
  {
   "cell_type": "code",
   "execution_count": 31,
   "id": "e714ba39",
   "metadata": {},
   "outputs": [
    {
     "name": "stdout",
     "output_type": "stream",
     "text": [
      "[1 2 3 4 5]\n",
      "<class 'numpy.ndarray'>\n",
      "1\n",
      "5\n"
     ]
    }
   ],
   "source": [
    "# create a array\n",
    "arr = np.array([1,2,3,4,5])\n",
    "print(arr)\n",
    "print(type(arr))\n",
    "print(arr[0])\n",
    "print(arr[-1])"
   ]
  },
  {
   "cell_type": "code",
   "execution_count": 29,
   "id": "de004f5c",
   "metadata": {},
   "outputs": [
    {
     "name": "stdout",
     "output_type": "stream",
     "text": [
      "[[1 2 3]\n",
      " [4 5 6]\n",
      " [7 8 9]]\n",
      "1\n",
      "9\n",
      "[1 2 3]\n",
      "[1 2 3]\n",
      "[7 8 9]\n",
      "[7 8 9]\n",
      "[7 8 9]\n"
     ]
    }
   ],
   "source": [
    "# create a Matrix\n",
    "mat = np.array([[1,2,3],\n",
    "                [4,5,6],\n",
    "                [7,8,9]])\n",
    "print(mat)\n",
    "print(mat[0,0])\n",
    "print(mat[2,2])\n",
    "print(mat[0])\n",
    "print(mat[0,:])\n",
    "print(mat[-1])\n",
    "print(mat[-1,:])\n",
    "print(mat[2,:])"
   ]
  },
  {
   "cell_type": "code",
   "execution_count": 48,
   "id": "db191b6d",
   "metadata": {},
   "outputs": [
    {
     "data": {
      "text/plain": [
       "array([[0, 0, 0],\n",
       "       [0, 0, 0],\n",
       "       [0, 0, 0]], dtype=uint8)"
      ]
     },
     "execution_count": 48,
     "metadata": {},
     "output_type": "execute_result"
    }
   ],
   "source": [
    "# create arraies ot matricies with zeros\n",
    "zero_matrix = np.zeros((3,3), dtype='uint8')\n",
    "zero_matrix"
   ]
  },
  {
   "cell_type": "code",
   "execution_count": 49,
   "id": "3aaf855c",
   "metadata": {},
   "outputs": [
    {
     "data": {
      "text/plain": [
       "array([[1, 1, 1],\n",
       "       [1, 1, 1],\n",
       "       [1, 1, 1]], dtype=uint8)"
      ]
     },
     "execution_count": 49,
     "metadata": {},
     "output_type": "execute_result"
    }
   ],
   "source": [
    "# create arraies ot matricies with ones\n",
    "one_matrix = np.ones([3,3], dtype='uint8')\n",
    "one_matrix"
   ]
  },
  {
   "cell_type": "code",
   "execution_count": 50,
   "id": "f7dc5804",
   "metadata": {},
   "outputs": [
    {
     "data": {
      "text/plain": [
       "array([[1, 1, 1],\n",
       "       [1, 1, 1],\n",
       "       [1, 1, 1]])"
      ]
     },
     "execution_count": 50,
     "metadata": {},
     "output_type": "execute_result"
    }
   ],
   "source": [
    "one_matrix = np.ones([3,3], dtype=np.int32)\n",
    "one_matrix"
   ]
  },
  {
   "cell_type": "code",
   "execution_count": 61,
   "id": "756d53ea",
   "metadata": {},
   "outputs": [
    {
     "name": "stdout",
     "output_type": "stream",
     "text": [
      "[0 1 2 3 4 5 6 7 8 9]\n"
     ]
    }
   ],
   "source": [
    "# create arraies ot matricies in certain range i need\n",
    "range_matrix = np.arange(10)\n",
    "print(range_matrix)\n",
    "# range_matrix = np.arange(101)\n",
    "# range_matrix"
   ]
  },
  {
   "cell_type": "code",
   "execution_count": 62,
   "id": "a66fcbcd",
   "metadata": {},
   "outputs": [
    {
     "data": {
      "text/plain": [
       "array([[0, 1, 2, 3, 4],\n",
       "       [5, 6, 7, 8, 9]])"
      ]
     },
     "execution_count": 62,
     "metadata": {},
     "output_type": "execute_result"
    }
   ],
   "source": [
    "# for reshaping anyway\n",
    "range_matrix.reshape((2,5))"
   ]
  },
  {
   "cell_type": "code",
   "execution_count": 64,
   "id": "73c0de76",
   "metadata": {},
   "outputs": [
    {
     "data": {
      "text/plain": [
       "array([[10,  7,  5],\n",
       "       [10,  7,  7]])"
      ]
     },
     "execution_count": 64,
     "metadata": {},
     "output_type": "execute_result"
    }
   ],
   "source": [
    "# sum tow array's or matricies \n",
    "a1 = np.array([[6,5,4],[3,2,1]])\n",
    "a2 = np.array([[4,2,1],[7,5,6]])\n",
    "a3 = a1 + a2 \n",
    "a3"
   ]
  },
  {
   "cell_type": "code",
   "execution_count": 65,
   "id": "2b076938",
   "metadata": {},
   "outputs": [
    {
     "data": {
      "text/plain": [
       "array([[67, 41],\n",
       "       [28, 17]])"
      ]
     },
     "execution_count": 65,
     "metadata": {},
     "output_type": "execute_result"
    }
   ],
   "source": [
    "# multiplication tow array's or matricies with (dot product)\n",
    "a1 = np.array([[6,5,4],[3,2,1]]) # 2x3\n",
    "a2 = np.array([[4,2],[7,5],[2,1]]) # 3x2\n",
    "a3 = np.dot(a1,a2)\n",
    "a3"
   ]
  },
  {
   "cell_type": "code",
   "execution_count": 68,
   "id": "5f1184f4",
   "metadata": {},
   "outputs": [
    {
     "data": {
      "text/plain": [
       "array([[24, 10,  4],\n",
       "       [21, 10,  6]])"
      ]
     },
     "execution_count": 68,
     "metadata": {},
     "output_type": "execute_result"
    }
   ],
   "source": [
    "# normal multiplication tow array's or matricies\n",
    "a1 = np.array([[6,5,4],[3,2,1]])\n",
    "a2 = np.array([[4,2,1],[7,5,6]])\n",
    "a3 = a1 * a2 \n",
    "a3"
   ]
  },
  {
   "cell_type": "code",
   "execution_count": 74,
   "id": "37c15fa2",
   "metadata": {},
   "outputs": [
    {
     "name": "stdout",
     "output_type": "stream",
     "text": [
      "[[6 3]\n",
      " [5 2]\n",
      " [4 1]]\n",
      "Before Transposed -> (2, 3) \n",
      "After Transposed -> (3, 2)\n"
     ]
    }
   ],
   "source": [
    "a = np.array([[6,5,4],\n",
    "              [3,2,1]])\n",
    "a_transposed = np.transpose(a)\n",
    "print(a_transposed)\n",
    "print('Before Transposed ->',np.shape(a) , '\\nAfter Transposed ->' ,  np.shape(a_transposed))"
   ]
  },
  {
   "cell_type": "code",
   "execution_count": null,
   "id": "2f60c94d",
   "metadata": {},
   "outputs": [],
   "source": []
  }
 ],
 "metadata": {
  "kernelspec": {
   "display_name": "Python 3 (ipykernel)",
   "language": "python",
   "name": "python3"
  },
  "language_info": {
   "codemirror_mode": {
    "name": "ipython",
    "version": 3
   },
   "file_extension": ".py",
   "mimetype": "text/x-python",
   "name": "python",
   "nbconvert_exporter": "python",
   "pygments_lexer": "ipython3",
   "version": "3.9.13"
  }
 },
 "nbformat": 4,
 "nbformat_minor": 5
}
