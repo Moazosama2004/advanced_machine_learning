{
 "cells": [
  {
   "cell_type": "code",
   "execution_count": 1,
   "id": "205d29b3",
   "metadata": {},
   "outputs": [],
   "source": [
    "import numpy as np"
   ]
  },
  {
   "cell_type": "code",
   "execution_count": 31,
   "id": "e38bfd7c",
   "metadata": {},
   "outputs": [
    {
     "name": "stdout",
     "output_type": "stream",
     "text": [
      "[1 2 3 4 5]\n",
      "<class 'numpy.ndarray'>\n",
      "1\n",
      "5\n"
     ]
    }
   ],
   "source": [
    "# create a array\n",
    "arr = np.array([1,2,3,4,5])\n",
    "print(arr)\n",
    "print(type(arr))\n",
    "print(arr[0])\n",
    "print(arr[-1])"
   ]
  },
  {
   "cell_type": "code",
   "execution_count": 29,
   "id": "a0c25785",
   "metadata": {},
   "outputs": [
    {
     "name": "stdout",
     "output_type": "stream",
     "text": [
      "[[1 2 3]\n",
      " [4 5 6]\n",
      " [7 8 9]]\n",
      "1\n",
      "9\n",
      "[1 2 3]\n",
      "[1 2 3]\n",
      "[7 8 9]\n",
      "[7 8 9]\n",
      "[7 8 9]\n"
     ]
    }
   ],
   "source": [
    "# create a Matrix\n",
    "mat = np.array([[1,2,3],\n",
    "                [4,5,6],\n",
    "                [7,8,9]])\n",
    "print(mat)\n",
    "print(mat[0,0])\n",
    "print(mat[2,2])\n",
    "print(mat[0])\n",
    "print(mat[0,:])\n",
    "print(mat[-1])\n",
    "print(mat[-1,:])\n",
    "print(mat[2,:])"
   ]
  },
  {
   "cell_type": "code",
   "execution_count": 48,
   "id": "d5dea4d5",
   "metadata": {},
   "outputs": [
    {
     "data": {
      "text/plain": [
       "array([[0, 0, 0],\n",
       "       [0, 0, 0],\n",
       "       [0, 0, 0]], dtype=uint8)"
      ]
     },
     "execution_count": 48,
     "metadata": {},
     "output_type": "execute_result"
    }
   ],
   "source": [
    "zero_matrix = np.zeros((3,3), dtype='uint8')\n",
    "zero_matrix"
   ]
  },
  {
   "cell_type": "code",
   "execution_count": 49,
   "id": "2a040ed1",
   "metadata": {},
   "outputs": [
    {
     "data": {
      "text/plain": [
       "array([[1, 1, 1],\n",
       "       [1, 1, 1],\n",
       "       [1, 1, 1]], dtype=uint8)"
      ]
     },
     "execution_count": 49,
     "metadata": {},
     "output_type": "execute_result"
    }
   ],
   "source": [
    "one_matrix = np.ones([3,3], dtype='uint8')\n",
    "one_matrix"
   ]
  },
  {
   "cell_type": "code",
   "execution_count": 50,
   "id": "a96e6ca5",
   "metadata": {},
   "outputs": [
    {
     "data": {
      "text/plain": [
       "array([[1, 1, 1],\n",
       "       [1, 1, 1],\n",
       "       [1, 1, 1]])"
      ]
     },
     "execution_count": 50,
     "metadata": {},
     "output_type": "execute_result"
    }
   ],
   "source": [
    "one_matrix = np.ones([3,3], dtype=np.int32)\n",
    "one_matrix"
   ]
  },
  {
   "cell_type": "code",
   "execution_count": null,
   "id": "c75479cb",
   "metadata": {},
   "outputs": [],
   "source": [
    "range_matrix = np.arange(0,9)"
   ]
  }
 ],
 "metadata": {
  "kernelspec": {
   "display_name": "Python 3 (ipykernel)",
   "language": "python",
   "name": "python3"
  },
  "language_info": {
   "codemirror_mode": {
    "name": "ipython",
    "version": 3
   },
   "file_extension": ".py",
   "mimetype": "text/x-python",
   "name": "python",
   "nbconvert_exporter": "python",
   "pygments_lexer": "ipython3",
   "version": "3.9.13"
  }
 },
 "nbformat": 4,
 "nbformat_minor": 5
}
