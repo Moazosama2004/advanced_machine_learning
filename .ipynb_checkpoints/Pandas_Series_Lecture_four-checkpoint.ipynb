{
 "cells": [
  {
   "cell_type": "code",
   "execution_count": 2,
   "id": "10b884ae",
   "metadata": {},
   "outputs": [],
   "source": [
    "import numpy as np\n",
    "import pandas as pd"
   ]
  },
  {
   "cell_type": "code",
   "execution_count": 36,
   "id": "03191440",
   "metadata": {},
   "outputs": [],
   "source": [
    "np.random.seed(0)"
   ]
  },
  {
   "cell_type": "code",
   "execution_count": 62,
   "id": "83750b72",
   "metadata": {},
   "outputs": [
    {
     "data": {
      "text/plain": [
       "array([-0.78030441,  0.2711128 ,  1.04502338,  0.59903953, -0.34069234,\n",
       "       -1.26317291, -2.77735915,  1.15173397, -0.58922899, -0.44846501,\n",
       "        0.13157397, -1.40556005, -0.34978218,  2.02347195,  0.50538694,\n",
       "        0.35924916, -1.58249448,  2.24360189, -1.42279491,  1.92232476,\n",
       "       -2.11505602,  1.40536544,  1.61805427, -0.82440912,  0.42258037,\n",
       "        0.54748057, -0.81379448, -1.44911761, -1.31771734,  0.54100822,\n",
       "       -0.0851156 , -0.56430103,  0.96676801,  0.50806791, -0.75546273,\n",
       "       -1.20120152,  0.52326174, -0.53758337,  0.09920486,  1.57629897,\n",
       "        0.50232824, -0.862267  ,  0.16066119, -0.95264495,  1.60852216,\n",
       "       -0.56157875,  0.20727075,  0.30773257,  0.15925047, -1.95854896])"
      ]
     },
     "execution_count": 62,
     "metadata": {},
     "output_type": "execute_result"
    }
   ],
   "source": [
    "x = np.random.randn(50) # mean 0 and sd is 1 - 1 below head of bell\n",
    "x"
   ]
  },
  {
   "cell_type": "code",
   "execution_count": 64,
   "id": "00e811f1",
   "metadata": {
    "scrolled": true
   },
   "outputs": [
    {
     "data": {
      "text/plain": [
       "0    -0.780304\n",
       "1     0.271113\n",
       "2     1.045023\n",
       "3     0.599040\n",
       "4    -0.340692\n",
       "5    -1.263173\n",
       "6    -2.777359\n",
       "7     1.151734\n",
       "8    -0.589229\n",
       "9    -0.448465\n",
       "10    0.131574\n",
       "11   -1.405560\n",
       "12   -0.349782\n",
       "13    2.023472\n",
       "14    0.505387\n",
       "15    0.359249\n",
       "16   -1.582494\n",
       "17    2.243602\n",
       "18   -1.422795\n",
       "19    1.922325\n",
       "20   -2.115056\n",
       "21    1.405365\n",
       "22    1.618054\n",
       "23   -0.824409\n",
       "24    0.422580\n",
       "25    0.547481\n",
       "26   -0.813794\n",
       "27   -1.449118\n",
       "28   -1.317717\n",
       "29    0.541008\n",
       "30   -0.085116\n",
       "31   -0.564301\n",
       "32    0.966768\n",
       "33    0.508068\n",
       "34   -0.755463\n",
       "35   -1.201202\n",
       "36    0.523262\n",
       "37   -0.537583\n",
       "38    0.099205\n",
       "39    1.576299\n",
       "40    0.502328\n",
       "41   -0.862267\n",
       "42    0.160661\n",
       "43   -0.952645\n",
       "44    1.608522\n",
       "45   -0.561579\n",
       "46    0.207271\n",
       "47    0.307733\n",
       "48    0.159250\n",
       "49   -1.958549\n",
       "dtype: float64"
      ]
     },
     "execution_count": 64,
     "metadata": {},
     "output_type": "execute_result"
    }
   ],
   "source": [
    "ser = pd.Series(x)\n",
    "ser"
   ]
  },
  {
   "cell_type": "code",
   "execution_count": 66,
   "id": "e9723cf2",
   "metadata": {},
   "outputs": [
    {
     "data": {
      "text/plain": [
       "<AxesSubplot:>"
      ]
     },
     "execution_count": 66,
     "metadata": {},
     "output_type": "execute_result"
    },
    {
     "data": {
      "image/png": "[encoded data removed]",
      "text/plain": [
       "<Figure size 640x480 with 1 Axes>"
      ]
     },
     "metadata": {},
     "output_type": "display_data"
    }
   ],
   "source": [
    "ser.hist()"
   ]
  },
  {
   "cell_type": "code",
   "execution_count": 68,
   "id": "a7d39155",
   "metadata": {},
   "outputs": [
    {
     "data": {
      "text/plain": [
       "<AxesSubplot:title={'center':'Constructed Series'}, ylabel='Frequency'>"
      ]
     },
     "execution_count": 68,
     "metadata": {},
     "output_type": "execute_result"
    },
    {
     "data": {
      "image/png": "[encoded data removed]",
      "text/plain": [
       "<Figure size 640x480 with 1 Axes>"
      ]
     },
     "metadata": {},
     "output_type": "display_data"
    }
   ],
   "source": [
    "ser.plot(kind = 'hist' , title = 'Constructed Series')"
   ]
  },
  {
   "cell_type": "code",
   "execution_count": 69,
   "id": "e6ba49f1",
   "metadata": {},
   "outputs": [
    {
     "data": {
      "text/plain": [
       "pandas.core.series.Series"
      ]
     },
     "execution_count": 69,
     "metadata": {},
     "output_type": "execute_result"
    }
   ],
   "source": [
    "type(ser)"
   ]
  },
  {
   "cell_type": "code",
   "execution_count": 71,
   "id": "a2193bd1",
   "metadata": {},
   "outputs": [
    {
     "data": {
      "text/plain": [
       "array([-0.78030441,  0.2711128 ,  1.04502338,  0.59903953, -0.34069234,\n",
       "       -1.26317291, -2.77735915,  1.15173397, -0.58922899, -0.44846501,\n",
       "        0.13157397, -1.40556005, -0.34978218,  2.02347195,  0.50538694,\n",
       "        0.35924916, -1.58249448,  2.24360189, -1.42279491,  1.92232476,\n",
       "       -2.11505602,  1.40536544,  1.61805427, -0.82440912,  0.42258037,\n",
       "        0.54748057, -0.81379448, -1.44911761, -1.31771734,  0.54100822,\n",
       "       -0.0851156 , -0.56430103,  0.96676801,  0.50806791, -0.75546273,\n",
       "       -1.20120152,  0.52326174, -0.53758337,  0.09920486,  1.57629897,\n",
       "        0.50232824, -0.862267  ,  0.16066119, -0.95264495,  1.60852216,\n",
       "       -0.56157875,  0.20727075,  0.30773257,  0.15925047, -1.95854896])"
      ]
     },
     "execution_count": 71,
     "metadata": {},
     "output_type": "execute_result"
    }
   ],
   "source": [
    "ser.values"
   ]
  },
  {
   "cell_type": "code",
   "execution_count": 76,
   "id": "6a82b314",
   "metadata": {},
   "outputs": [
    {
     "data": {
      "text/plain": [
       "array([ 0,  1,  2,  3,  4,  5,  6,  7,  8,  9, 10, 11, 12, 13, 14, 15, 16,\n",
       "       17, 18, 19, 20, 21, 22, 23, 24, 25, 26, 27, 28, 29, 30, 31, 32, 33,\n",
       "       34, 35, 36, 37, 38, 39, 40, 41, 42, 43, 44, 45, 46, 47, 48, 49],\n",
       "      dtype=int64)"
      ]
     },
     "execution_count": 76,
     "metadata": {},
     "output_type": "execute_result"
    }
   ],
   "source": [
    "ser.index.values"
   ]
  },
  {
   "cell_type": "code",
   "execution_count": 77,
   "id": "8c0d4858",
   "metadata": {},
   "outputs": [
    {
     "data": {
      "text/plain": [
       "-0.7803044065015394"
      ]
     },
     "execution_count": 77,
     "metadata": {},
     "output_type": "execute_result"
    }
   ],
   "source": [
    "ser[0]"
   ]
  },
  {
   "cell_type": "code",
   "execution_count": 78,
   "id": "98fefdc8",
   "metadata": {},
   "outputs": [
    {
     "data": {
      "text/plain": [
       "0    -0.780304\n",
       "1     0.271113\n",
       "2     1.045023\n",
       "3     0.599040\n",
       "4    -0.340692\n",
       "5    -1.263173\n",
       "6    -2.777359\n",
       "7     1.151734\n",
       "8    -0.589229\n",
       "9    -0.448465\n",
       "10    0.131574\n",
       "11   -1.405560\n",
       "12   -0.349782\n",
       "13    2.023472\n",
       "14    0.505387\n",
       "dtype: float64"
      ]
     },
     "execution_count": 78,
     "metadata": {},
     "output_type": "execute_result"
    }
   ],
   "source": [
    "ser[0:15]"
   ]
  },
  {
   "cell_type": "code",
   "execution_count": 80,
   "id": "134e69bb",
   "metadata": {},
   "outputs": [
    {
     "data": {
      "text/plain": [
       "-1.4055600473918899"
      ]
     },
     "execution_count": 80,
     "metadata": {},
     "output_type": "execute_result"
    }
   ],
   "source": [
    "ser[11]"
   ]
  },
  {
   "cell_type": "code",
   "execution_count": 86,
   "id": "9c1aaa2c",
   "metadata": {},
   "outputs": [
    {
     "name": "stdout",
     "output_type": "stream",
     "text": [
      "<class 'pandas.core.series.Series'>\n",
      "RangeIndex: 50 entries, 0 to 49\n",
      "Series name: None\n",
      "Non-Null Count  Dtype  \n",
      "--------------  -----  \n",
      "50 non-null     float64\n",
      "dtypes: float64(1)\n",
      "memory usage: 528.0 bytes\n"
     ]
    }
   ],
   "source": [
    "ser.info()"
   ]
  },
  {
   "cell_type": "code",
   "execution_count": 85,
   "id": "f4ecfad9",
   "metadata": {},
   "outputs": [
    {
     "data": {
      "text/plain": [
       "-0.07104557634347876"
      ]
     },
     "execution_count": 85,
     "metadata": {},
     "output_type": "execute_result"
    }
   ],
   "source": [
    "ser.mean()"
   ]
  },
  {
   "cell_type": "code",
   "execution_count": 88,
   "id": "65845a91",
   "metadata": {},
   "outputs": [
    {
     "data": {
      "text/plain": [
       "count    50.000000\n",
       "mean     -0.071046\n",
       "std       1.138107\n",
       "min      -2.777359\n",
       "25%      -0.821755\n",
       "50%       0.115389\n",
       "75%       0.536572\n",
       "max       2.243602\n",
       "dtype: float64"
      ]
     },
     "execution_count": 88,
     "metadata": {},
     "output_type": "execute_result"
    }
   ],
   "source": [
    "ser.describe()"
   ]
  },
  {
   "cell_type": "code",
   "execution_count": 104,
   "id": "38be94ec",
   "metadata": {},
   "outputs": [
    {
     "data": {
      "text/plain": [
       "a    10\n",
       "b    20\n",
       "c    30\n",
       "d    40\n",
       "e    50\n",
       "dtype: int32"
      ]
     },
     "execution_count": 104,
     "metadata": {},
     "output_type": "execute_result"
    }
   ],
   "source": [
    "s1 = pd.Series(data = np.arange(10,60,10),index = ['a' , 'b' , 'c' , 'd' , 'e'] )\n",
    "s1"
   ]
  },
  {
   "cell_type": "code",
   "execution_count": 105,
   "id": "0475b7ae",
   "metadata": {},
   "outputs": [
    {
     "data": {
      "text/plain": [
       "30"
      ]
     },
     "execution_count": 105,
     "metadata": {},
     "output_type": "execute_result"
    }
   ],
   "source": [
    "s1['c']"
   ]
  },
  {
   "cell_type": "code",
   "execution_count": 108,
   "id": "cc489eac",
   "metadata": {},
   "outputs": [
    {
     "data": {
      "text/plain": [
       "a    10\n",
       "b    20\n",
       "dtype: int32"
      ]
     },
     "execution_count": 108,
     "metadata": {},
     "output_type": "execute_result"
    }
   ],
   "source": [
    "s1['a':'b']"
   ]
  },
  {
   "cell_type": "code",
   "execution_count": 106,
   "id": "0b97912c",
   "metadata": {},
   "outputs": [
    {
     "data": {
      "text/plain": [
       "20"
      ]
     },
     "execution_count": 106,
     "metadata": {},
     "output_type": "execute_result"
    }
   ],
   "source": [
    "s1.b"
   ]
  },
  {
   "cell_type": "code",
   "execution_count": 103,
   "id": "dc715de2",
   "metadata": {},
   "outputs": [
    {
     "data": {
      "text/plain": [
       "0    10\n",
       "1    20\n",
       "2    30\n",
       "3    40\n",
       "4    50\n",
       "dtype: int32"
      ]
     },
     "execution_count": 103,
     "metadata": {},
     "output_type": "execute_result"
    }
   ],
   "source": [
    "s1 = pd.Series(data = np.arange(10,60,10))\n",
    "s1"
   ]
  },
  {
   "cell_type": "code",
   "execution_count": 109,
   "id": "41294457",
   "metadata": {},
   "outputs": [],
   "source": [
    "student_grades = pd.Series(data = np.array([90.5 , 91.1 , 50.1 , 51.5]) , index = ['ahmed' , 'moaz','mustafa','ramadan'])"
   ]
  },
  {
   "cell_type": "code",
   "execution_count": 110,
   "id": "0ed65bea",
   "metadata": {},
   "outputs": [
    {
     "data": {
      "text/plain": [
       "ahmed      90.5\n",
       "moaz       91.1\n",
       "mustafa    50.1\n",
       "ramadan    51.5\n",
       "dtype: float64"
      ]
     },
     "execution_count": 110,
     "metadata": {},
     "output_type": "execute_result"
    }
   ],
   "source": [
    "student_grades"
   ]
  },
  {
   "cell_type": "code",
   "execution_count": 112,
   "id": "2893045a",
   "metadata": {},
   "outputs": [
    {
     "data": {
      "text/plain": [
       "91.1"
      ]
     },
     "execution_count": 112,
     "metadata": {},
     "output_type": "execute_result"
    }
   ],
   "source": [
    "student_grades.moaz"
   ]
  },
  {
   "cell_type": "code",
   "execution_count": 116,
   "id": "6a682a13",
   "metadata": {},
   "outputs": [
    {
     "data": {
      "text/plain": [
       "51.5"
      ]
     },
     "execution_count": 116,
     "metadata": {},
     "output_type": "execute_result"
    }
   ],
   "source": [
    "student_grades.iloc[3]"
   ]
  },
  {
   "cell_type": "code",
   "execution_count": 119,
   "id": "1041725b",
   "metadata": {},
   "outputs": [
    {
     "data": {
      "text/plain": [
       "60.0"
      ]
     },
     "execution_count": 119,
     "metadata": {},
     "output_type": "execute_result"
    }
   ],
   "source": [
    "student_grades.mustafa = 60\n",
    "student_grades.mustafa"
   ]
  },
  {
   "cell_type": "code",
   "execution_count": 120,
   "id": "59bccadb",
   "metadata": {},
   "outputs": [
    {
     "data": {
      "text/plain": [
       "101.0"
      ]
     },
     "execution_count": 120,
     "metadata": {},
     "output_type": "execute_result"
    }
   ],
   "source": [
    "student_grades.iloc[0] = 101\n",
    "student_grades.iloc[0]"
   ]
  },
  {
   "cell_type": "code",
   "execution_count": 121,
   "id": "885cb2ae",
   "metadata": {},
   "outputs": [
    {
     "data": {
      "text/plain": [
       "ahmed      101.0\n",
       "moaz        91.1\n",
       "mustafa     60.0\n",
       "ramadan     51.5\n",
       "dtype: float64"
      ]
     },
     "execution_count": 121,
     "metadata": {},
     "output_type": "execute_result"
    }
   ],
   "source": [
    "student_grades"
   ]
  },
  {
   "cell_type": "code",
   "execution_count": 123,
   "id": "37aa96f4",
   "metadata": {},
   "outputs": [
    {
     "data": {
      "text/plain": [
       "ahmed      101.0\n",
       "moaz         NaN\n",
       "mustafa     60.0\n",
       "ramadan     51.5\n",
       "dtype: object"
      ]
     },
     "execution_count": 123,
     "metadata": {},
     "output_type": "execute_result"
    }
   ],
   "source": [
    "student_grades.moaz = np.NaN\n",
    "student_grades"
   ]
  },
  {
   "cell_type": "code",
   "execution_count": 111,
   "id": "31cee603",
   "metadata": {},
   "outputs": [
    {
     "data": {
      "text/plain": [
       "count     4.000000\n",
       "mean     70.800000\n",
       "std      23.102381\n",
       "min      50.100000\n",
       "25%      51.150000\n",
       "50%      71.000000\n",
       "75%      90.650000\n",
       "max      91.100000\n",
       "dtype: float64"
      ]
     },
     "execution_count": 111,
     "metadata": {},
     "output_type": "execute_result"
    }
   ],
   "source": [
    "student_grades.describe()"
   ]
  },
  {
   "cell_type": "code",
   "execution_count": 130,
   "id": "53b7216b",
   "metadata": {},
   "outputs": [
    {
     "data": {
      "text/plain": [
       "ahmed      False\n",
       "moaz        True\n",
       "mustafa    False\n",
       "ramadan    False\n",
       "dtype: bool"
      ]
     },
     "execution_count": 130,
     "metadata": {},
     "output_type": "execute_result"
    }
   ],
   "source": [
    "student_grades.isnull()"
   ]
  },
  {
   "cell_type": "code",
   "execution_count": 133,
   "id": "1326758a",
   "metadata": {},
   "outputs": [],
   "source": [
    "dic = {\n",
    "    'ML' : 3 ,\n",
    "    'AI' : 3 ,\n",
    "    'CV' : 3 ,\n",
    "}"
   ]
  },
  {
   "cell_type": "code",
   "execution_count": 136,
   "id": "43cf2487",
   "metadata": {},
   "outputs": [
    {
     "data": {
      "text/plain": [
       "ML    3\n",
       "AI    3\n",
       "CV    3\n",
       "dtype: int64"
      ]
     },
     "execution_count": 136,
     "metadata": {},
     "output_type": "execute_result"
    }
   ],
   "source": [
    "dic_s = pd.Series(dic)\n",
    "dic_s"
   ]
  },
  {
   "cell_type": "code",
   "execution_count": null,
   "id": "d8c594bb",
   "metadata": {},
   "outputs": [],
   "source": [
    "x1 = [3,2,3,3]\n",
    "x2 = ['ML',\n",
    "    'AI',\n",
    "    'CV']\n",
    "series = pd.Series(x1,x2)"
   ]
  }
 ],
 "metadata": {
  "kernelspec": {
   "display_name": "Python 3 (ipykernel)",
   "language": "python",
   "name": "python3"
  },
  "language_info": {
   "codemirror_mode": {
    "name": "ipython",
    "version": 3
   },
   "file_extension": ".py",
   "mimetype": "text/x-python",
   "name": "python",
   "nbconvert_exporter": "python",
   "pygments_lexer": "ipython3",
   "version": "3.9.13"
  }
 },
 "nbformat": 4,
 "nbformat_minor": 5
}
