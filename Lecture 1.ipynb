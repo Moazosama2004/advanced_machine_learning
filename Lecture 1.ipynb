{
 "cells": [
  {
   "cell_type": "markdown",
   "id": "a30d2fa3",
   "metadata": {},
   "source": [
    "# Variables\n",
    "name_of_var = data_value "
   ]
  },
  {
   "cell_type": "code",
   "execution_count": 2,
   "id": "1c42d3c2",
   "metadata": {},
   "outputs": [
    {
     "data": {
      "text/plain": [
       "10"
      ]
     },
     "execution_count": 2,
     "metadata": {},
     "output_type": "execute_result"
    }
   ],
   "source": [
    "# we didn't define a data type for variable x here , and notice x1 is int\n",
    "x1 = 10\n",
    "x1"
   ]
  },
  {
   "cell_type": "code",
   "execution_count": 3,
   "id": "271dcda2",
   "metadata": {},
   "outputs": [
    {
     "name": "stdout",
     "output_type": "stream",
     "text": [
      "78.3\n"
     ]
    }
   ],
   "source": [
    "# x2 is float \n",
    "x2 = 78.3\n",
    "print(x2)"
   ]
  },
  {
   "cell_type": "code",
   "execution_count": 4,
   "id": "4f8078ab",
   "metadata": {},
   "outputs": [
    {
     "name": "stdout",
     "output_type": "stream",
     "text": [
      "hello\n"
     ]
    }
   ],
   "source": [
    "# x3 is String\n",
    "x3 = 'hello'\n",
    "print(x3)"
   ]
  },
  {
   "cell_type": "markdown",
   "id": "1a5ba417",
   "metadata": {},
   "source": [
    "# Lists\n",
    "That's Define like :\n",
    "    name_of_list = [data1 , data2 , data3]"
   ]
  },
  {
   "cell_type": "code",
   "execution_count": 8,
   "id": "1d717438",
   "metadata": {},
   "outputs": [],
   "source": [
    "lv = ['Machine Learning' , 3 , True , 200]"
   ]
  },
  {
   "cell_type": "code",
   "execution_count": 10,
   "id": "41513e47",
   "metadata": {},
   "outputs": [
    {
     "name": "stdout",
     "output_type": "stream",
     "text": [
      "['Machine Learning', 3, True, 200]\n"
     ]
    }
   ],
   "source": [
    "print(lv)"
   ]
  },
  {
   "cell_type": "code",
   "execution_count": 11,
   "id": "f6ac5b36",
   "metadata": {},
   "outputs": [
    {
     "name": "stdout",
     "output_type": "stream",
     "text": [
      "Machine Learning\n"
     ]
    }
   ],
   "source": [
    "# access first element in list\n",
    "print(lv[0])"
   ]
  },
  {
   "cell_type": "code",
   "execution_count": 12,
   "id": "be80ef82",
   "metadata": {},
   "outputs": [
    {
     "name": "stdout",
     "output_type": "stream",
     "text": [
      "200\n"
     ]
    }
   ],
   "source": [
    "# access last element in list\n",
    "print(lv[-1])"
   ]
  },
  {
   "cell_type": "code",
   "execution_count": 15,
   "id": "0b445e9a",
   "metadata": {},
   "outputs": [
    {
     "name": "stdout",
     "output_type": "stream",
     "text": [
      "250\n"
     ]
    }
   ],
   "source": [
    "# list is mutable that mean we can edit values in list\n",
    "lv[-1] = 250\n",
    "print(lv[-1])"
   ]
  },
  {
   "cell_type": "code",
   "execution_count": 16,
   "id": "6c8f4341",
   "metadata": {},
   "outputs": [],
   "source": [
    "lv.append('Dr.Mohamed Zidan')"
   ]
  },
  {
   "cell_type": "code",
   "execution_count": 17,
   "id": "09b183f6",
   "metadata": {},
   "outputs": [
    {
     "name": "stdout",
     "output_type": "stream",
     "text": [
      "['Machine Learning', 3, True, 250, 'Dr.Mohamed Zidan']\n"
     ]
    }
   ],
   "source": [
    "print(lv)"
   ]
  },
  {
   "cell_type": "code",
   "execution_count": 18,
   "id": "09c65780",
   "metadata": {},
   "outputs": [],
   "source": [
    "lv.remove(3)"
   ]
  },
  {
   "cell_type": "code",
   "execution_count": 20,
   "id": "3a4748e7",
   "metadata": {},
   "outputs": [
    {
     "name": "stdout",
     "output_type": "stream",
     "text": [
      "['Machine Learning', True, 250, 'Dr.Mohamed Zidan']\n"
     ]
    }
   ],
   "source": [
    "print(lv)"
   ]
  },
  {
   "cell_type": "code",
   "execution_count": 22,
   "id": "9d5272dc",
   "metadata": {},
   "outputs": [
    {
     "name": "stdout",
     "output_type": "stream",
     "text": [
      "4\n"
     ]
    }
   ],
   "source": [
    "size_of_lv = len(lv)\n",
    "print(size_of_lv)"
   ]
  },
  {
   "cell_type": "markdown",
   "id": "b0848cd6",
   "metadata": {},
   "source": [
    "# Dictionary\n",
    "That's Define Like that : \n",
    "\n",
    "\n",
    "dict = {\n",
    "    'Key' : value\n",
    "    'name' : value\n",
    "}\n"
   ]
  },
  {
   "cell_type": "code",
   "execution_count": 28,
   "id": "dadf92a8",
   "metadata": {},
   "outputs": [
    {
     "name": "stdout",
     "output_type": "stream",
     "text": [
      "{'course name': 'ML', 'credit hours': 3, 'prequiest': 'Linear Algebra', 'Number of students': 200}\n"
     ]
    }
   ],
   "source": [
    "dic = {\n",
    "    'course name' : 'ML',\n",
    "    'credit hours' : 3,\n",
    "    'prequiest' : 'Linear Algebra',\n",
    "    'Number of students' : 200\n",
    "}\n",
    "print(dic)"
   ]
  },
  {
   "cell_type": "code",
   "execution_count": 29,
   "id": "1ad54ed0",
   "metadata": {},
   "outputs": [
    {
     "name": "stdout",
     "output_type": "stream",
     "text": [
      "3\n"
     ]
    }
   ],
   "source": [
    "print(dic['credit hours'])"
   ]
  },
  {
   "cell_type": "code",
   "execution_count": 30,
   "id": "39c8f770",
   "metadata": {},
   "outputs": [
    {
     "name": "stdout",
     "output_type": "stream",
     "text": [
      "ML\n"
     ]
    }
   ],
   "source": [
    "print(dic['course name'])"
   ]
  },
  {
   "cell_type": "code",
   "execution_count": 32,
   "id": "371f88b0",
   "metadata": {},
   "outputs": [
    {
     "name": "stdout",
     "output_type": "stream",
     "text": [
      "dict_keys(['course name', 'credit hours', 'prequiest', 'Number of students'])\n",
      "dict_values(['ML', 3, 'Linear Algebra', 200])\n"
     ]
    }
   ],
   "source": [
    "print(dic.keys() , dic.values() , sep='\\n')"
   ]
  },
  {
   "cell_type": "code",
   "execution_count": 33,
   "id": "f702446a",
   "metadata": {},
   "outputs": [],
   "source": [
    "dic['level'] = 4"
   ]
  },
  {
   "cell_type": "code",
   "execution_count": 34,
   "id": "92f55b3e",
   "metadata": {},
   "outputs": [
    {
     "data": {
      "text/plain": [
       "{'course name': 'ML',\n",
       " 'credit hours': 3,\n",
       " 'prequiest': 'Linear Algebra',\n",
       " 'Number of students': 200,\n",
       " 'level': 4}"
      ]
     },
     "execution_count": 34,
     "metadata": {},
     "output_type": "execute_result"
    }
   ],
   "source": [
    "dic"
   ]
  },
  {
   "cell_type": "code",
   "execution_count": 35,
   "id": "a541fce8",
   "metadata": {},
   "outputs": [],
   "source": [
    "dic['Number of students'] = 250"
   ]
  },
  {
   "cell_type": "code",
   "execution_count": 36,
   "id": "ef6aa7d1",
   "metadata": {},
   "outputs": [
    {
     "data": {
      "text/plain": [
       "{'course name': 'ML',\n",
       " 'credit hours': 3,\n",
       " 'prequiest': 'Linear Algebra',\n",
       " 'Number of students': 250,\n",
       " 'level': 4}"
      ]
     },
     "execution_count": 36,
     "metadata": {},
     "output_type": "execute_result"
    }
   ],
   "source": [
    "dic"
   ]
  },
  {
   "cell_type": "code",
   "execution_count": 38,
   "id": "b6003b8f",
   "metadata": {},
   "outputs": [
    {
     "name": "stdout",
     "output_type": "stream",
     "text": [
      "5\n"
     ]
    }
   ],
   "source": [
    "print(len(dic))"
   ]
  },
  {
   "cell_type": "code",
   "execution_count": 39,
   "id": "f767486e",
   "metadata": {},
   "outputs": [],
   "source": [
    "del dic['Number of students']"
   ]
  },
  {
   "cell_type": "code",
   "execution_count": 40,
   "id": "3b2834e8",
   "metadata": {},
   "outputs": [
    {
     "name": "stdout",
     "output_type": "stream",
     "text": [
      "{'course name': 'ML', 'credit hours': 3, 'prequiest': 'Linear Algebra', 'level': 4}\n"
     ]
    }
   ],
   "source": [
    "print(dic)"
   ]
  },
  {
   "cell_type": "code",
   "execution_count": 42,
   "id": "801a4039",
   "metadata": {},
   "outputs": [],
   "source": [
    "dic['Number of students'] = 300"
   ]
  },
  {
   "cell_type": "code",
   "execution_count": 43,
   "id": "2327599b",
   "metadata": {},
   "outputs": [
    {
     "data": {
      "text/plain": [
       "{'course name': 'ML',\n",
       " 'credit hours': 3,\n",
       " 'prequiest': 'Linear Algebra',\n",
       " 'level': 4,\n",
       " 'Number of students': 300}"
      ]
     },
     "execution_count": 43,
     "metadata": {},
     "output_type": "execute_result"
    }
   ],
   "source": [
    "dic"
   ]
  },
  {
   "cell_type": "code",
   "execution_count": 44,
   "id": "168673f5",
   "metadata": {},
   "outputs": [
    {
     "data": {
      "text/plain": [
       "300"
      ]
     },
     "execution_count": 44,
     "metadata": {},
     "output_type": "execute_result"
    }
   ],
   "source": [
    "dic.pop('Number of students')"
   ]
  },
  {
   "cell_type": "code",
   "execution_count": 45,
   "id": "779acc31",
   "metadata": {},
   "outputs": [
    {
     "data": {
      "text/plain": [
       "{'course name': 'ML',\n",
       " 'credit hours': 3,\n",
       " 'prequiest': 'Linear Algebra',\n",
       " 'level': 4}"
      ]
     },
     "execution_count": 45,
     "metadata": {},
     "output_type": "execute_result"
    }
   ],
   "source": [
    "dic"
   ]
  },
  {
   "cell_type": "markdown",
   "id": "129674d8",
   "metadata": {},
   "source": [
    "# Arithmetic Operators"
   ]
  },
  {
   "cell_type": "code",
   "execution_count": 46,
   "id": "69047351",
   "metadata": {},
   "outputs": [
    {
     "data": {
      "text/plain": [
       "8"
      ]
     },
     "execution_count": 46,
     "metadata": {},
     "output_type": "execute_result"
    }
   ],
   "source": [
    "2**3"
   ]
  },
  {
   "cell_type": "markdown",
   "id": "347d519c",
   "metadata": {},
   "source": [
    "# Logical Operators"
   ]
  },
  {
   "cell_type": "markdown",
   "id": "4a48c2dd",
   "metadata": {},
   "source": [
    "# IF Statement"
   ]
  },
  {
   "cell_type": "code",
   "execution_count": 47,
   "id": "e59de197",
   "metadata": {},
   "outputs": [
    {
     "name": "stdout",
     "output_type": "stream",
     "text": [
      "Machine Learning Course\n"
     ]
    }
   ],
   "source": [
    "y = 401 \n",
    "if y == 401 :\n",
    "    print(\"Machine Learning Course\")"
   ]
  },
  {
   "cell_type": "code",
   "execution_count": 48,
   "id": "81d4c238",
   "metadata": {},
   "outputs": [],
   "source": [
    "y = 402\n",
    "if y == 401 :\n",
    "    print(\"Machine Learning Course\")"
   ]
  },
  {
   "cell_type": "code",
   "execution_count": 49,
   "id": "25321ca6",
   "metadata": {},
   "outputs": [
    {
     "name": "stdout",
     "output_type": "stream",
     "text": [
      "y is a Dog\n"
     ]
    }
   ],
   "source": [
    "y = 10\n",
    "if y > 5  :\n",
    "    print(\"y is a Dog\")\n",
    "elif y < 5 :\n",
    "    print(\"y is a Cat\")"
   ]
  },
  {
   "cell_type": "code",
   "execution_count": 50,
   "id": "7d19a4e0",
   "metadata": {},
   "outputs": [
    {
     "name": "stdout",
     "output_type": "stream",
     "text": [
      "y is a Cat\n"
     ]
    }
   ],
   "source": [
    "y = 2\n",
    "if y > 5  :\n",
    "    print(\"y is a Dog\")\n",
    "elif y < 5 :\n",
    "    print(\"y is a Cat\")"
   ]
  },
  {
   "cell_type": "code",
   "execution_count": 51,
   "id": "5996af5f",
   "metadata": {},
   "outputs": [
    {
     "name": "stdout",
     "output_type": "stream",
     "text": [
      "y is a Mouse\n"
     ]
    }
   ],
   "source": [
    "y = 5\n",
    "if y > 5  :\n",
    "    print(\"y is a Dog\")\n",
    "elif y < 5 :\n",
    "    print(\"y is a Cat\")\n",
    "else :\n",
    "    print(\"y is a Mouse\")"
   ]
  },
  {
   "cell_type": "markdown",
   "id": "12131911",
   "metadata": {},
   "source": [
    "# Loops\n",
    "- for loop \n",
    "    - for _ in range(start , end , step) :\n",
    "        code\n",
    "        ....\n",
    "        ....\n",
    "        \n",
    "- while loop\n",
    "     - var that indicate for stating point like i = 0 \n",
    "       while(condition)  :\n",
    "            code\n",
    "            ....\n",
    "            i+=1"
   ]
  },
  {
   "cell_type": "code",
   "execution_count": 59,
   "id": "f30524d9",
   "metadata": {},
   "outputs": [
    {
     "name": "stdout",
     "output_type": "stream",
     "text": [
      "0 1 2 3 "
     ]
    }
   ],
   "source": [
    "n = 4 \n",
    "for x in range(n) :\n",
    "    print(x , end = ' ')"
   ]
  },
  {
   "cell_type": "code",
   "execution_count": 60,
   "id": "4a840b4a",
   "metadata": {},
   "outputs": [
    {
     "name": "stdout",
     "output_type": "stream",
     "text": [
      "2 3 4 5 6 7 8 9 "
     ]
    }
   ],
   "source": [
    "for x in range(2,10) :\n",
    "    print(x , end = ' ')"
   ]
  },
  {
   "cell_type": "code",
   "execution_count": 61,
   "id": "473c0220",
   "metadata": {},
   "outputs": [
    {
     "name": "stdout",
     "output_type": "stream",
     "text": [
      "2 4 6 8 "
     ]
    }
   ],
   "source": [
    "for x in range(2,10,2) :\n",
    "    print(x , end = ' ')"
   ]
  },
  {
   "cell_type": "code",
   "execution_count": 63,
   "id": "3ede062b",
   "metadata": {},
   "outputs": [
    {
     "name": "stdout",
     "output_type": "stream",
     "text": [
      "6 7 8 9 10 11 "
     ]
    }
   ],
   "source": [
    "n1 = 6 \n",
    "n2 = 12 \n",
    "for x in range(n1,n2) :\n",
    "    print(x , end = ' ')"
   ]
  },
  {
   "cell_type": "code",
   "execution_count": 66,
   "id": "4191da2e",
   "metadata": {},
   "outputs": [
    {
     "name": "stdout",
     "output_type": "stream",
     "text": [
      "Machine Learning  -  True  -  250  -  Dr.Mohamed Zidan  -  "
     ]
    }
   ],
   "source": [
    "for _ in lv : \n",
    "    print(_ , end = '  -  ')"
   ]
  },
  {
   "cell_type": "code",
   "execution_count": 70,
   "id": "c80f2989",
   "metadata": {},
   "outputs": [
    {
     "data": {
      "text/plain": [
       "{'course name': 'ML',\n",
       " 'credit hours': 3,\n",
       " 'prequiest': 'Linear Algebra',\n",
       " 'level': 4}"
      ]
     },
     "execution_count": 70,
     "metadata": {},
     "output_type": "execute_result"
    }
   ],
   "source": [
    "# in dict the way of loop is difference let's see \n",
    "dic"
   ]
  },
  {
   "cell_type": "code",
   "execution_count": 71,
   "id": "2d7ce207",
   "metadata": {},
   "outputs": [
    {
     "name": "stdout",
     "output_type": "stream",
     "text": [
      "course name\n",
      "credit hours\n",
      "prequiest\n",
      "level\n"
     ]
    }
   ],
   "source": [
    "for _ in dic :\n",
    "    print(_)"
   ]
  },
  {
   "cell_type": "code",
   "execution_count": 72,
   "id": "fcdc54ce",
   "metadata": {},
   "outputs": [
    {
     "name": "stdout",
     "output_type": "stream",
     "text": [
      "course name\n",
      "credit hours\n",
      "prequiest\n",
      "level\n"
     ]
    }
   ],
   "source": [
    "for _ in dic.keys() :\n",
    "    print(_)"
   ]
  },
  {
   "cell_type": "code",
   "execution_count": 73,
   "id": "ca972971",
   "metadata": {},
   "outputs": [
    {
     "name": "stdout",
     "output_type": "stream",
     "text": [
      "ML\n",
      "3\n",
      "Linear Algebra\n",
      "4\n"
     ]
    }
   ],
   "source": [
    "for _ in dic.values() :\n",
    "    print(_)"
   ]
  },
  {
   "cell_type": "code",
   "execution_count": 74,
   "id": "5ad8c62c",
   "metadata": {},
   "outputs": [
    {
     "name": "stdout",
     "output_type": "stream",
     "text": [
      "('course name', 'ML')\n",
      "('credit hours', 3)\n",
      "('prequiest', 'Linear Algebra')\n",
      "('level', 4)\n"
     ]
    }
   ],
   "source": [
    "for _ in dic.items() :\n",
    "    print(_)"
   ]
  },
  {
   "cell_type": "code",
   "execution_count": 77,
   "id": "1aa2eaa9",
   "metadata": {},
   "outputs": [
    {
     "name": "stdout",
     "output_type": "stream",
     "text": [
      "key : course name :  value : ML\n",
      "==========\n",
      "key : credit hours :  value : 3\n",
      "==========\n",
      "key : prequiest :  value : Linear Algebra\n",
      "==========\n",
      "key : level :  value : 4\n",
      "==========\n"
     ]
    }
   ],
   "source": [
    "for key , value in dic.items() :\n",
    "    print(f'key : {key} :  value : {value}')\n",
    "    print('=' * 10)"
   ]
  },
  {
   "cell_type": "code",
   "execution_count": 79,
   "id": "32b36647",
   "metadata": {},
   "outputs": [
    {
     "name": "stdout",
     "output_type": "stream",
     "text": [
      "Enter Your Name : Muaz Osama\n",
      "Enter Your degree : 100\n",
      "Enter Your Name : Ahmed Osama\n",
      "Enter Your degree : 50\n",
      "Enter Your Name : Ahmed emad\n",
      "Enter Your degree : 60\n",
      "Enter Your Name : Eslam Zal\n",
      "Enter Your degree : 30\n",
      "==============================\n"
     ]
    },
    {
     "data": {
      "text/plain": [
       "[{'name': 'Muaz Osama', 'degree': '100'},\n",
       " {'name': 'Ahmed Osama', 'degree': '50'},\n",
       " {'name': 'Ahmed emad', 'degree': '60'},\n",
       " {'name': 'Eslam Zal', 'degree': '30'}]"
      ]
     },
     "execution_count": 79,
     "metadata": {},
     "output_type": "execute_result"
    }
   ],
   "source": [
    "students = []\n",
    "for _ in range(4) :\n",
    "    di = {}\n",
    "    name = input('Enter Your Name : ')\n",
    "    degree = input('Enter Your degree : ')\n",
    "    di['name'] = name\n",
    "    di['degree'] = degree\n",
    "    students.append(di)\n",
    "print('=' * 30)\n",
    "students"
   ]
  },
  {
   "cell_type": "code",
   "execution_count": 80,
   "id": "ca6762a9",
   "metadata": {},
   "outputs": [
    {
     "data": {
      "text/plain": [
       "[{'name': 'Muaz Osama', 'degree': '100'},\n",
       " {'name': 'Ahmed Osama', 'degree': '50'},\n",
       " {'name': 'Ahmed emad', 'degree': '60'},\n",
       " {'name': 'Eslam Zal', 'degree': '30'}]"
      ]
     },
     "execution_count": 80,
     "metadata": {},
     "output_type": "execute_result"
    }
   ],
   "source": [
    "students"
   ]
  },
  {
   "cell_type": "code",
   "execution_count": 93,
   "id": "cab51d93",
   "metadata": {},
   "outputs": [
    {
     "name": "stdout",
     "output_type": "stream",
     "text": [
      "Muaz Osama 100\n",
      "Ahmed Osama 50\n",
      "Ahmed emad 60\n",
      "Eslam Zal 30\n"
     ]
    }
   ],
   "source": [
    "for student in students :\n",
    "    print('{} {}'.format( student['name'], student['degree']))"
   ]
  },
  {
   "cell_type": "code",
   "execution_count": 94,
   "id": "3cdb9cd0",
   "metadata": {},
   "outputs": [
    {
     "name": "stdout",
     "output_type": "stream",
     "text": [
      "2\n",
      "3\n",
      "4\n",
      "5\n"
     ]
    }
   ],
   "source": [
    "y = 2\n",
    "while(y < 6) :\n",
    "    print(y)\n",
    "    y+=1"
   ]
  },
  {
   "cell_type": "code",
   "execution_count": null,
   "id": "b0258506",
   "metadata": {},
   "outputs": [],
   "source": []
  }
 ],
 "metadata": {
  "kernelspec": {
   "display_name": "Python 3 (ipykernel)",
   "language": "python",
   "name": "python3"
  },
  "language_info": {
   "codemirror_mode": {
    "name": "ipython",
    "version": 3
   },
   "file_extension": ".py",
   "mimetype": "text/x-python",
   "name": "python",
   "nbconvert_exporter": "python",
   "pygments_lexer": "ipython3",
   "version": "3.9.13"
  }
 },
 "nbformat": 4,
 "nbformat_minor": 5
}
